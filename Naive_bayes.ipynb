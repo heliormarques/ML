{
 "cells": [
  {
   "cell_type": "code",
   "execution_count": null,
   "metadata": {},
   "outputs": [],
   "source": [
    "import tensorflow as tf\n",
    "from tensorflow.keras.preprocessing.image import ImageDataGenerator\n",
    "from tensorflow.keras.layers import Conv2D\n",
    "from tensorflow.keras.layers import Dense\n",
    "from tensorflow.keras.regularizers import l2\n",
    "import cv2\n",
    "import numpy as np\n",
    "import random as rn\n",
    "import pandas as pd\n",
    "from tqdm import tqdm\n",
    "import pandas as pd\n",
    "import matplotlib.pyplot as plt"
   ]
  },
  {
   "cell_type": "code",
   "execution_count": null,
   "metadata": {},
   "outputs": [],
   "source": [
    "df=pd.read_csv(r\"E:\\machinelearning\\data\\train.csv\")\n",
    "a,b=np.unique(df[\"target\"],return_counts=True)\n",
    "from sklearn.model_selection import train_test_split\n",
    "\n",
    "train,valid=train_test_split(df,test_size=0.2,train_size=0.25)\n",
    "train,test=train_test_split(train,test_size=0.01,train_size=0.25)\n",
    "\n",
    "train[\"image_name_jpg\"]=train[\"image_name\"]+\".jpg\"\n",
    "test[\"image_name_jpg\"]=test[\"image_name\"]+\".jpg\"\n",
    "valid[\"image_name_jpg\"]=valid[\"image_name\"]+\".jpg\"\n",
    "\n",
    "train[\"target\"]=train[\"target\"].astype(str)\n",
    "test[\"target\"]=test[\"target\"].astype(str)\n",
    "valid[\"target\"]=valid[\"target\"].astype(str)"
   ]
  },
  {
   "cell_type": "code",
   "execution_count": null,
   "metadata": {},
   "outputs": [],
   "source": [
    "train_datagen=tf.keras.preprocessing.image.ImageDataGenerator(\n",
    "    rescale=1/255,\n",
    "    horizontal_flip=True\n",
    "    )\n",
    "test_datagen=tf.keras.preprocessing.image.ImageDataGenerator(rescale=1/255) # we have to divide by 255 for testing in android app\n",
    "\n",
    "\n",
    "train_generator =train_datagen.flow_from_dataframe(\n",
    "    dataframe=train,\n",
    "    directory=r\"E:/machinelearning/data/train/\",\n",
    "    x_col=\"image_name_jpg\", # name +\".jpg\"\n",
    "    y_col=\"target\",\n",
    "    target_size=(32,32),\n",
    "    batch_size=32,\n",
    "    class_mode=\"binary\"\n",
    ")"
   ]
  },
  {
   "cell_type": "code",
   "execution_count": null,
   "metadata": {},
   "outputs": [],
   "source": [
    "validation_generator =test_datagen.flow_from_dataframe(\n",
    "    dataframe=valid,\n",
    "    directory=r\"E:/machinelearning/data/train/\",\n",
    "    x_col=\"image_name_jpg\",\n",
    "    y_col=\"target\",\n",
    "    target_size=(32,32),\n",
    "    batch_size=16,\n",
    "    class_mode=\"binary\"\n",
    ")\n",
    "\n",
    "#validation_generator.labels"
   ]
  },
  {
   "cell_type": "code",
   "execution_count": null,
   "metadata": {},
   "outputs": [],
   "source": [
    "train_generator.reset()\n",
    "X_train, y_train = next(train_generator)\n",
    "for i in tqdm(range(int(len(train_generator)/32)-1)): #1st batch is already fetched before the for loop.\n",
    "  img, label = next(train_generator)\n",
    "  X_train = np.append(X_train, img, axis=0 )\n",
    "  y_train = np.append(y_train, label, axis=0)\n",
    "print(X2_train.shape, y2_train.shape)\n",
    "\n"
   ]
  },
  {
   "cell_type": "code",
   "execution_count": null,
   "metadata": {},
   "outputs": [],
   "source": [
    "#Import Gaussian Naive Bayes model\n",
    "from sklearn.naive_bayes import GaussianNB\n",
    "\n",
    "#Create a Gaussian Classifier\n",
    "gnb = GaussianNB()\n",
    "\n",
    "#Train the model using the training sets\n",
    "gnb.fit(train_generator, validation_generator)\n",
    "\n",
    "#Predict the response for test dataset\n",
    "y_pred = gnb.predict(validation_generator)"
   ]
  }
 ],
 "metadata": {
  "interpreter": {
   "hash": "843c54cf6e64417a56ba2fc126d45a866f69900720caa8efbfa97427d21e3981"
  },
  "kernelspec": {
   "display_name": "Python 3.7.11 64-bit ('tf': conda)",
   "language": "python",
   "name": "python3"
  },
  "language_info": {
   "codemirror_mode": {
    "name": "ipython",
    "version": 3
   },
   "file_extension": ".py",
   "mimetype": "text/x-python",
   "name": "python",
   "nbconvert_exporter": "python",
   "pygments_lexer": "ipython3",
   "version": "3.7.11"
  },
  "orig_nbformat": 4
 },
 "nbformat": 4,
 "nbformat_minor": 2
}

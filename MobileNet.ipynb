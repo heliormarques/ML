{
  "nbformat": 4,
  "nbformat_minor": 0,
  "metadata": {
    "accelerator": "GPU",
    "colab": {
      "name": "MelanomaDetection.ipynb",
      "provenance": [],
      "collapsed_sections": []
    },
    "kernelspec": {
      "display_name": "Python 3",
      "name": "python3"
    },
    "language_info": {
      "name": "python"
    }
  },
  "cells": [
    {
      "cell_type": "markdown",
      "metadata": {
        "id": "_eiLP12UB1LL"
      },
      "source": [
        "# Deteccao de Melanoma por Machine Learning"
      ]
    },
    {
      "cell_type": "markdown",
      "metadata": {
        "id": "ABGyOdADmqkZ"
      },
      "source": [
        "Montando driver"
      ]
    },
    {
      "cell_type": "code",
      "metadata": {
        "id": "AaUpddM8mgnh"
      },
      "source": [
        "from google.colab import drive\n",
        "drive.mount(\"/content/gdrive\")"
      ],
      "execution_count": null,
      "outputs": []
    },
    {
      "cell_type": "markdown",
      "metadata": {
        "id": "-okn_K3WXcat"
      },
      "source": [
        "Imports"
      ]
    },
    {
      "cell_type": "code",
      "metadata": {
        "id": "6VwRVnt_B9HS"
      },
      "source": [
        "import os\n",
        "import cv2\n",
        "import numpy as np\n",
        "import random as rn\n",
        "import pandas as pd\n",
        "from tqdm import tqdm\n",
        "import pandas as pd\n",
        "import matplotlib.pyplot as plt"
      ],
      "execution_count": null,
      "outputs": []
    },
    {
      "cell_type": "markdown",
      "metadata": {
        "id": "vvdwubBdXh3o"
      },
      "source": [
        "Preparacao do dataset\n",
        "(Codigo executado antes da importacao do dataset ao colab)"
      ]
    },
    {
      "cell_type": "code",
      "metadata": {
        "id": "dP9Pw4xjGm_o"
      },
      "source": [
        "import tensorflow as tf\n",
        "import keras\n",
        "from keras import initializers\n",
        "from keras import regularizers\n",
        "from keras import constraints\n",
        "from keras import backend as K\n",
        "from tensorflow.keras.activations import elu\n",
        "from tensorflow.keras.optimizers import Adam\n",
        "from tensorflow.keras.models import Sequential\n",
        "from tensorflow.keras.layers import InputSpec, Layer\n",
        "from keras.utils.generic_utils import get_custom_objects\n",
        "from keras.callbacks import Callback, EarlyStopping, ReduceLROnPlateau\n",
        "from keras.layers import Dense, Conv2D, Flatten, GlobalAveragePooling2D, Dropout,MaxPooling2D,BatchNormalization,GlobalMaxPooling2D\n",
        "\n",
        "# set seed for reproducability\n",
        "seed=1234\n",
        "rn.seed(seed)\n",
        "np.random.seed(seed)\n",
        "tf.random.set_seed(seed)\n",
        "os.environ[\"PYTHONHASHSEED\"]=str(seed)"
      ],
      "execution_count": null,
      "outputs": []
    },
    {
      "cell_type": "markdown",
      "metadata": {
        "id": "mbSJqVlxaf0_"
      },
      "source": [
        "Especificando o Modelo"
      ]
    },
    {
      "cell_type": "code",
      "metadata": {
        "id": "UeYxXxcnafTd"
      },
      "source": [
        "base_model=tf.keras.applications.MobileNetV2(input_shape=(256,256,3),include_top=False,weights=\"imagenet\")\n",
        "\n",
        "for layer in base_model.layers:\n",
        "    layer.trainable=True\n",
        "\n",
        "\n",
        "# Build Model according to your output\n",
        "def build_model():\n",
        "    model=Sequential()\n",
        "    model.add(base_model) \n",
        "    model.add(GlobalAveragePooling2D())\n",
        "    model.add(Dropout(0.3))  # change dropout get better result\n",
        "    model.add(Dense(1,activation=\"sigmoid\")) # output is 0 or 1 binary \n",
        "    \n",
        "    # now compile model\n",
        "    # we are using adam you can use other to optimize better\n",
        "    optimizer=tf.keras.optimizers.Adam(learning_rate=0.00005,beta_1=0.9,beta_2=0.999,amsgrad=False)\n",
        "    # This is important part of model \n",
        "    # Number of positive image is less than number of negative image\n",
        "    # we use AUC metrics\n",
        "    metrics=tf.keras.metrics.AUC(name=\"auc\")\n",
        "    model.compile(loss=\"binary_crossentropy\",optimizer=optimizer,metrics=metrics)\n",
        "    print(model.summary())\n",
        "    return model\n",
        "\n",
        "model=build_model()"
      ],
      "execution_count": null,
      "outputs": []
    },
    {
      "cell_type": "markdown",
      "metadata": {
        "id": "AH7CmSx1O_6W"
      },
      "source": [
        "Read CSV"
      ]
    },
    {
      "cell_type": "code",
      "metadata": {
        "id": "9OILN65FlS6s"
      },
      "source": [
        "df=pd.read_csv(\"/content/gdrive/My Drive/MelanomaData/train.csv\")\n",
        "df"
      ],
      "execution_count": null,
      "outputs": []
    },
    {
      "cell_type": "code",
      "metadata": {
        "id": "2JFt4zevQddK"
      },
      "source": [
        "a,b=np.unique(df[\"target\"],return_counts=True)\n",
        "a\n",
        "b"
      ],
      "execution_count": null,
      "outputs": []
    },
    {
      "cell_type": "markdown",
      "metadata": {
        "id": "oHPbWPsaQi9m"
      },
      "source": [
        "Separar dataset em treino e validacao"
      ]
    },
    {
      "cell_type": "code",
      "metadata": {
        "id": "uYSdz3p0QpMM"
      },
      "source": [
        "from sklearn.model_selection import train_test_split\n",
        "\n",
        "\n",
        "train,valid=train_test_split(df,test_size=0.2)\n",
        "train,test=train_test_split(train,test_size=0.01)\n",
        "\n",
        "train[\"image_name_jpg\"]=train[\"image_name\"]+\".jpg\"\n",
        "test[\"image_name_jpg\"]=test[\"image_name\"]+\".jpg\"\n",
        "valid[\"image_name_jpg\"]=valid[\"image_name\"]+\".jpg\"\n",
        "\n",
        "train[\"target\"]=train[\"target\"].astype(str)\n",
        "test[\"target\"]=test[\"target\"].astype(str)\n",
        "valid[\"target\"]=valid[\"target\"].astype(str)"
      ],
      "execution_count": null,
      "outputs": []
    },
    {
      "cell_type": "markdown",
      "metadata": {
        "id": "1vL1NocURL02"
      },
      "source": [
        "Processando data de treinamento:\n"
      ]
    },
    {
      "cell_type": "code",
      "metadata": {
        "id": "XPZMudFdRNIO"
      },
      "source": [
        "# now create train_generator and validation_generator\n",
        "# you can add other augmentation example vertical_flip, random cropping ,etc to get bettter accuracy\n",
        "train_datagen=tf.keras.preprocessing.image.ImageDataGenerator(\n",
        "    rescale=1/255,\n",
        "    horizontal_flip=True\n",
        "    )\n",
        "test_datagen=tf.keras.preprocessing.image.ImageDataGenerator(rescale=1/255) # we have to divide by 255 for testing in android app\n",
        "\n",
        "\n",
        "train_generator =train_datagen.flow_from_dataframe(\n",
        "    dataframe=train,\n",
        "    directory=\"/content/gdrive/My Drive/MelanomaData/train/\",\n",
        "    x_col=\"image_name_jpg\", # name +\".jpg\"\n",
        "    y_col=\"target\",\n",
        "    target_size=(256,256),\n",
        "    batch_size=32,\n",
        "    class_mode=\"binary\"\n",
        ")"
      ],
      "execution_count": null,
      "outputs": []
    },
    {
      "cell_type": "markdown",
      "metadata": {
        "id": "Life_n2CSI5l"
      },
      "source": [
        "Processando data de Validacao"
      ]
    },
    {
      "cell_type": "code",
      "metadata": {
        "id": "wuHT_9IFSH96"
      },
      "source": [
        "validation_generator =test_datagen.flow_from_dataframe(\n",
        "    dataframe=valid,\n",
        "    directory=\"/content/gdrive/My Drive/MelanomaData/train/\",\n",
        "    x_col=\"image_name_jpg\",\n",
        "    y_col=\"target\",\n",
        "    target_size=(256,256),\n",
        "    batch_size=16,\n",
        "    class_mode=\"binary\"\n",
        ")"
      ],
      "execution_count": null,
      "outputs": []
    },
    {
      "cell_type": "markdown",
      "metadata": {
        "id": "za1-AkcwScP2"
      },
      "source": [
        "Definindo Modelo de Treinamento"
      ]
    },
    {
      "cell_type": "code",
      "metadata": {
        "colab": {
          "background_save": true
        },
        "id": "8FXxdK-wSflB"
      },
      "source": [
        "model.fit_generator(\n",
        "    train_generator,\n",
        "    epochs=3, #you have set or use early stopping to stop before overfiting\n",
        "    shuffle=True,\n",
        "    validation_data=validation_generator\n",
        "    # can also define callback to save model when gets best accuracy\n",
        ")"
      ],
      "execution_count": null,
      "outputs": []
    },
    {
      "cell_type": "code",
      "metadata": {
        "id": "j_cWqppuSwPZ"
      },
      "source": [
        "#test saving\n",
        "\n",
        "converter = tf.lite.TFLiteConverter.from_keras_model(model)\n",
        "tflite_model = converter.convert()\n",
        "\n",
        "# Save the model.\n",
        "with open('model.tflite', 'wb') as f:\n",
        "  f.write(tflite_model)"
      ],
      "execution_count": null,
      "outputs": []
    },
    {
      "cell_type": "markdown",
      "metadata": {
        "id": "vCB5hafTKrkz"
      },
      "source": [
        ""
      ]
    }
  ]
}